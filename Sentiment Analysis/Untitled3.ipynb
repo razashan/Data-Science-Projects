{
  "nbformat": 4,
  "nbformat_minor": 0,
  "metadata": {
    "colab": {
      "name": "Untitled3.ipynb",
      "provenance": []
    },
    "kernelspec": {
      "name": "python3",
      "display_name": "Python 3"
    }
  },
  "cells": [
    {
      "cell_type": "markdown",
      "metadata": {
        "id": "JrJOe8_fXLrd",
        "colab_type": "text"
      },
      "source": [
        "# **Sentiment Analysis on IMDB Movie Reviews using LSTM**"
      ]
    },
    {
      "cell_type": "code",
      "metadata": {
        "id": "pj_CzqC-XQaT",
        "colab_type": "code",
        "colab": {}
      },
      "source": [
        "from __future__ import print_function\n",
        "from keras.preprocessing import sequence\n",
        "from keras.models import Sequential\n",
        "from keras.layers import Dense, Embedding\n",
        "from keras.datasets import imdb\n",
        "from keras.layers import LSTM\n",
        "import numpy as np\n",
        "\n",
        "max_features = 20000\n",
        "maxlen = 80\n",
        "batch_size = 200"
      ],
      "execution_count": 0,
      "outputs": []
    },
    {
      "cell_type": "code",
      "metadata": {
        "id": "053joGxOXsiG",
        "colab_type": "code",
        "colab": {
          "base_uri": "https://localhost:8080/",
          "height": 52
        },
        "outputId": "1e1aafad-8e72-4cbd-a19f-74cd64a913a5"
      },
      "source": [
        "(X_train, y_train), (X_test, y_test) = imdb.load_data(num_words=max_features)"
      ],
      "execution_count": 21,
      "outputs": [
        {
          "output_type": "stream",
          "text": [
            "Downloading data from https://s3.amazonaws.com/text-datasets/imdb.npz\n",
            "17465344/17464789 [==============================] - 2s 0us/step\n"
          ],
          "name": "stdout"
        }
      ]
    },
    {
      "cell_type": "code",
      "metadata": {
        "id": "aXp-pR6RX98U",
        "colab_type": "code",
        "colab": {
          "base_uri": "https://localhost:8080/",
          "height": 35
        },
        "outputId": "482768e5-9294-41f5-a796-e334df08315d"
      },
      "source": [
        "print(X_train.shape,y_train.shape)"
      ],
      "execution_count": 22,
      "outputs": [
        {
          "output_type": "stream",
          "text": [
            "(25000,) (25000,)\n"
          ],
          "name": "stdout"
        }
      ]
    },
    {
      "cell_type": "code",
      "metadata": {
        "id": "81N9W3YzYCUa",
        "colab_type": "code",
        "colab": {
          "base_uri": "https://localhost:8080/",
          "height": 176
        },
        "outputId": "05e8a42a-9c96-4799-e7f0-e0df9fcd575a"
      },
      "source": [
        "X_train"
      ],
      "execution_count": 23,
      "outputs": [
        {
          "output_type": "execute_result",
          "data": {
            "text/plain": [
              "array([list([1, 14, 22, 16, 43, 530, 973, 1622, 1385, 65, 458, 4468, 66, 3941, 4, 173, 36, 256, 5, 25, 100, 43, 838, 112, 50, 670, 2, 9, 35, 480, 284, 5, 150, 4, 172, 112, 167, 2, 336, 385, 39, 4, 172, 4536, 1111, 17, 546, 38, 13, 447, 4, 192, 50, 16, 6, 147, 2025, 19, 14, 22, 4, 1920, 4613, 469, 4, 22, 71, 87, 12, 16, 43, 530, 38, 76, 15, 13, 1247, 4, 22, 17, 515, 17, 12, 16, 626, 18, 19193, 5, 62, 386, 12, 8, 316, 8, 106, 5, 4, 2223, 5244, 16, 480, 66, 3785, 33, 4, 130, 12, 16, 38, 619, 5, 25, 124, 51, 36, 135, 48, 25, 1415, 33, 6, 22, 12, 215, 28, 77, 52, 5, 14, 407, 16, 82, 10311, 8, 4, 107, 117, 5952, 15, 256, 4, 2, 7, 3766, 5, 723, 36, 71, 43, 530, 476, 26, 400, 317, 46, 7, 4, 12118, 1029, 13, 104, 88, 4, 381, 15, 297, 98, 32, 2071, 56, 26, 141, 6, 194, 7486, 18, 4, 226, 22, 21, 134, 476, 26, 480, 5, 144, 30, 5535, 18, 51, 36, 28, 224, 92, 25, 104, 4, 226, 65, 16, 38, 1334, 88, 12, 16, 283, 5, 16, 4472, 113, 103, 32, 15, 16, 5345, 19, 178, 32]),\n",
              "       list([1, 194, 1153, 194, 8255, 78, 228, 5, 6, 1463, 4369, 5012, 134, 26, 4, 715, 8, 118, 1634, 14, 394, 20, 13, 119, 954, 189, 102, 5, 207, 110, 3103, 21, 14, 69, 188, 8, 30, 23, 7, 4, 249, 126, 93, 4, 114, 9, 2300, 1523, 5, 647, 4, 116, 9, 35, 8163, 4, 229, 9, 340, 1322, 4, 118, 9, 4, 130, 4901, 19, 4, 1002, 5, 89, 29, 952, 46, 37, 4, 455, 9, 45, 43, 38, 1543, 1905, 398, 4, 1649, 26, 6853, 5, 163, 11, 3215, 10156, 4, 1153, 9, 194, 775, 7, 8255, 11596, 349, 2637, 148, 605, 15358, 8003, 15, 123, 125, 68, 2, 6853, 15, 349, 165, 4362, 98, 5, 4, 228, 9, 43, 2, 1157, 15, 299, 120, 5, 120, 174, 11, 220, 175, 136, 50, 9, 4373, 228, 8255, 5, 2, 656, 245, 2350, 5, 4, 9837, 131, 152, 491, 18, 2, 32, 7464, 1212, 14, 9, 6, 371, 78, 22, 625, 64, 1382, 9, 8, 168, 145, 23, 4, 1690, 15, 16, 4, 1355, 5, 28, 6, 52, 154, 462, 33, 89, 78, 285, 16, 145, 95]),\n",
              "       list([1, 14, 47, 8, 30, 31, 7, 4, 249, 108, 7, 4, 5974, 54, 61, 369, 13, 71, 149, 14, 22, 112, 4, 2401, 311, 12, 16, 3711, 33, 75, 43, 1829, 296, 4, 86, 320, 35, 534, 19, 263, 4821, 1301, 4, 1873, 33, 89, 78, 12, 66, 16, 4, 360, 7, 4, 58, 316, 334, 11, 4, 1716, 43, 645, 662, 8, 257, 85, 1200, 42, 1228, 2578, 83, 68, 3912, 15, 36, 165, 1539, 278, 36, 69, 2, 780, 8, 106, 14, 6905, 1338, 18, 6, 22, 12, 215, 28, 610, 40, 6, 87, 326, 23, 2300, 21, 23, 22, 12, 272, 40, 57, 31, 11, 4, 22, 47, 6, 2307, 51, 9, 170, 23, 595, 116, 595, 1352, 13, 191, 79, 638, 89, 2, 14, 9, 8, 106, 607, 624, 35, 534, 6, 227, 7, 129, 113]),\n",
              "       ...,\n",
              "       list([1, 11, 6, 230, 245, 6401, 9, 6, 1225, 446, 2, 45, 2174, 84, 8322, 4007, 21, 4, 912, 84, 14532, 325, 725, 134, 15271, 1715, 84, 5, 36, 28, 57, 1099, 21, 8, 140, 8, 703, 5, 11656, 84, 56, 18, 1644, 14, 9, 31, 7, 4, 9406, 1209, 2295, 2, 1008, 18, 6, 20, 207, 110, 563, 12, 8, 2901, 17793, 8, 97, 6, 20, 53, 4767, 74, 4, 460, 364, 1273, 29, 270, 11, 960, 108, 45, 40, 29, 2961, 395, 11, 6, 4065, 500, 7, 14492, 89, 364, 70, 29, 140, 4, 64, 4780, 11, 4, 2678, 26, 178, 4, 529, 443, 17793, 5, 27, 710, 117, 2, 8123, 165, 47, 84, 37, 131, 818, 14, 595, 10, 10, 61, 1242, 1209, 10, 10, 288, 2260, 1702, 34, 2901, 17793, 4, 65, 496, 4, 231, 7, 790, 5, 6, 320, 234, 2766, 234, 1119, 1574, 7, 496, 4, 139, 929, 2901, 17793, 7750, 5, 4241, 18, 4, 8497, 13164, 250, 11, 1818, 7561, 4, 4217, 5408, 747, 1115, 372, 1890, 1006, 541, 9303, 7, 4, 59, 11027, 4, 3586, 2]),\n",
              "       list([1, 1446, 7079, 69, 72, 3305, 13, 610, 930, 8, 12, 582, 23, 5, 16, 484, 685, 54, 349, 11, 4120, 2959, 45, 58, 1466, 13, 197, 12, 16, 43, 23, 2, 5, 62, 30, 145, 402, 11, 4131, 51, 575, 32, 61, 369, 71, 66, 770, 12, 1054, 75, 100, 2198, 8, 4, 105, 37, 69, 147, 712, 75, 3543, 44, 257, 390, 5, 69, 263, 514, 105, 50, 286, 1814, 23, 4, 123, 13, 161, 40, 5, 421, 4, 116, 16, 897, 13, 2, 40, 319, 5872, 112, 6700, 11, 4803, 121, 25, 70, 3468, 4, 719, 3798, 13, 18, 31, 62, 40, 8, 7200, 4, 2, 7, 14, 123, 5, 942, 25, 8, 721, 12, 145, 5, 202, 12, 160, 580, 202, 12, 6, 52, 58, 11418, 92, 401, 728, 12, 39, 14, 251, 8, 15, 251, 5, 2, 12, 38, 84, 80, 124, 12, 9, 23]),\n",
              "       list([1, 17, 6, 194, 337, 7, 4, 204, 22, 45, 254, 8, 106, 14, 123, 4, 12815, 270, 14437, 5, 16923, 12255, 732, 2098, 101, 405, 39, 14, 1034, 4, 1310, 9, 115, 50, 305, 12, 47, 4, 168, 5, 235, 7, 38, 111, 699, 102, 7, 4, 4039, 9245, 9, 24, 6, 78, 1099, 17, 2345, 16553, 21, 27, 9685, 6139, 5, 2, 1603, 92, 1183, 4, 1310, 7, 4, 204, 42, 97, 90, 35, 221, 109, 29, 127, 27, 118, 8, 97, 12, 157, 21, 6789, 2, 9, 6, 66, 78, 1099, 4, 631, 1191, 5, 2642, 272, 191, 1070, 6, 7585, 8, 2197, 2, 10755, 544, 5, 383, 1271, 848, 1468, 12183, 497, 16876, 8, 1597, 8778, 19280, 21, 60, 27, 239, 9, 43, 8368, 209, 405, 10, 10, 12, 764, 40, 4, 248, 20, 12, 16, 5, 174, 1791, 72, 7, 51, 6, 1739, 22, 4, 204, 131, 9])],\n",
              "      dtype=object)"
            ]
          },
          "metadata": {
            "tags": []
          },
          "execution_count": 23
        }
      ]
    },
    {
      "cell_type": "code",
      "metadata": {
        "id": "o7-LS-Q-YFDF",
        "colab_type": "code",
        "colab": {
          "base_uri": "https://localhost:8080/",
          "height": 69
        },
        "outputId": "96e015ea-ce4b-44cc-ebdd-b5f17f419031"
      },
      "source": [
        "for i in range(0,3):\n",
        "  print(len(X_train[i]))"
      ],
      "execution_count": 24,
      "outputs": [
        {
          "output_type": "stream",
          "text": [
            "218\n",
            "189\n",
            "141\n"
          ],
          "name": "stdout"
        }
      ]
    },
    {
      "cell_type": "code",
      "metadata": {
        "id": "pFkAwFUCYMAW",
        "colab_type": "code",
        "colab": {
          "base_uri": "https://localhost:8080/",
          "height": 35
        },
        "outputId": "fa3b1059-ffd6-4b98-b834-ca9acc575f82"
      },
      "source": [
        "print('Pad sequences (samples x time)')\n",
        "X_train = sequence.pad_sequences(X_train,maxlen=maxlen)\n",
        "X_test = sequence.pad_sequences(X_test,maxlen=maxlen)"
      ],
      "execution_count": 25,
      "outputs": [
        {
          "output_type": "stream",
          "text": [
            "Pad sequences (samples x time)\n"
          ],
          "name": "stdout"
        }
      ]
    },
    {
      "cell_type": "code",
      "metadata": {
        "id": "JxWryAOqYgt8",
        "colab_type": "code",
        "colab": {
          "base_uri": "https://localhost:8080/",
          "height": 52
        },
        "outputId": "8d180533-cac8-4d5f-fce1-6c6c909bb798"
      },
      "source": [
        "print('X train shape: ',X_train.shape)\n",
        "print('X_test shape',X_test.shape)"
      ],
      "execution_count": 26,
      "outputs": [
        {
          "output_type": "stream",
          "text": [
            "X train shape:  (25000, 80)\n",
            "X_test shape (25000, 80)\n"
          ],
          "name": "stdout"
        }
      ]
    },
    {
      "cell_type": "code",
      "metadata": {
        "id": "m08DCYBaYnpZ",
        "colab_type": "code",
        "colab": {
          "base_uri": "https://localhost:8080/",
          "height": 139
        },
        "outputId": "fcb0aad1-4e63-4bcd-bc4e-08ae5987ff8f"
      },
      "source": [
        "X_train"
      ],
      "execution_count": 27,
      "outputs": [
        {
          "output_type": "execute_result",
          "data": {
            "text/plain": [
              "array([[   15,   256,     4, ...,    19,   178,    32],\n",
              "       [  125,    68,     2, ...,    16,   145,    95],\n",
              "       [  645,   662,     8, ...,     7,   129,   113],\n",
              "       ...,\n",
              "       [  529,   443, 17793, ...,     4,  3586,     2],\n",
              "       [  286,  1814,    23, ...,    12,     9,    23],\n",
              "       [   97,    90,    35, ...,   204,   131,     9]], dtype=int32)"
            ]
          },
          "metadata": {
            "tags": []
          },
          "execution_count": 27
        }
      ]
    },
    {
      "cell_type": "code",
      "metadata": {
        "id": "c6db8OQdYpkx",
        "colab_type": "code",
        "colab": {
          "base_uri": "https://localhost:8080/",
          "height": 69
        },
        "outputId": "0cd1dd4e-b572-4f0d-f298-467d7ce3ea83"
      },
      "source": [
        "for i in range(0,3):\n",
        "  print(len(X_train[i]))"
      ],
      "execution_count": 28,
      "outputs": [
        {
          "output_type": "stream",
          "text": [
            "80\n",
            "80\n",
            "80\n"
          ],
          "name": "stdout"
        }
      ]
    },
    {
      "cell_type": "code",
      "metadata": {
        "id": "-mgIdBW3YwAh",
        "colab_type": "code",
        "colab": {
          "base_uri": "https://localhost:8080/",
          "height": 35
        },
        "outputId": "f621f079-6737-471d-bc21-fd4c8578e523"
      },
      "source": [
        "print('Build Model')\n",
        "model = Sequential()\n",
        "model.add(Embedding(max_features,128))\n",
        "model.add(LSTM(128,dropout=0.2,recurrent_dropout=0.2))\n",
        "model.add(Dense(1,activation='sigmoid'))\n",
        "\n",
        "model.compile(loss='binary_crossentropy',\n",
        "              optimizer='adam',\n",
        "              metrics=['accuracy'])"
      ],
      "execution_count": 33,
      "outputs": [
        {
          "output_type": "stream",
          "text": [
            "Build Model\n"
          ],
          "name": "stdout"
        }
      ]
    },
    {
      "cell_type": "code",
      "metadata": {
        "id": "2O9BK8tkZbsT",
        "colab_type": "code",
        "colab": {
          "base_uri": "https://localhost:8080/",
          "height": 228
        },
        "outputId": "1f41d7fa-0d34-4f14-eb78-0eff96765ab8"
      },
      "source": [
        "print('Train')\n",
        "model.fit(X_train,y_train,\n",
        "          batch_size=batch_size,\n",
        "          epochs = 3,\n",
        "          validation_data=(X_test,y_test))"
      ],
      "execution_count": 34,
      "outputs": [
        {
          "output_type": "stream",
          "text": [
            "Train\n"
          ],
          "name": "stdout"
        },
        {
          "output_type": "stream",
          "text": [
            "/usr/local/lib/python3.6/dist-packages/tensorflow/python/framework/indexed_slices.py:434: UserWarning: Converting sparse IndexedSlices to a dense Tensor of unknown shape. This may consume a large amount of memory.\n",
            "  \"Converting sparse IndexedSlices to a dense Tensor of unknown shape. \"\n"
          ],
          "name": "stderr"
        },
        {
          "output_type": "stream",
          "text": [
            "Train on 25000 samples, validate on 25000 samples\n",
            "Epoch 1/3\n",
            "25000/25000 [==============================] - 81s 3ms/step - loss: 0.4908 - accuracy: 0.7542 - val_loss: 0.3728 - val_accuracy: 0.8374\n",
            "Epoch 2/3\n",
            "25000/25000 [==============================] - 81s 3ms/step - loss: 0.3008 - accuracy: 0.8814 - val_loss: 0.3679 - val_accuracy: 0.8381\n",
            "Epoch 3/3\n",
            "25000/25000 [==============================] - 81s 3ms/step - loss: 0.2418 - accuracy: 0.9071 - val_loss: 0.4308 - val_accuracy: 0.8287\n"
          ],
          "name": "stdout"
        },
        {
          "output_type": "execute_result",
          "data": {
            "text/plain": [
              "<keras.callbacks.callbacks.History at 0x7fc07d499ef0>"
            ]
          },
          "metadata": {
            "tags": []
          },
          "execution_count": 34
        }
      ]
    },
    {
      "cell_type": "code",
      "metadata": {
        "id": "_V2lxV3EZ7c2",
        "colab_type": "code",
        "colab": {
          "base_uri": "https://localhost:8080/",
          "height": 69
        },
        "outputId": "b50b9c18-bbc4-4199-85dd-c2a9cf40f87d"
      },
      "source": [
        "score ,acc = model.evaluate(X_test,y_test,batch_size=batch_size)\n",
        "print('Test score',score)\n",
        "print('Test Accuracy',acc)"
      ],
      "execution_count": 35,
      "outputs": [
        {
          "output_type": "stream",
          "text": [
            "25000/25000 [==============================] - 17s 672us/step\n",
            "Test score 0.43078354334831237\n",
            "Test Accuracy 0.828719973564148\n"
          ],
          "name": "stdout"
        }
      ]
    },
    {
      "cell_type": "markdown",
      "metadata": {
        "id": "DY6kkETuaOrB",
        "colab_type": "text"
      },
      "source": [
        "# **Sentiment Analysis on Movie Reviews using LSTM RNN Model**"
      ]
    },
    {
      "cell_type": "code",
      "metadata": {
        "id": "Sio5VovpaQmc",
        "colab_type": "code",
        "colab": {}
      },
      "source": [
        "from gensim import corpora\n",
        "from nltk.corpus import stopwords\n",
        "from nltk.tokenize import word_tokenize\n",
        "from nltk.stem import SnowballStemmer"
      ],
      "execution_count": 0,
      "outputs": []
    },
    {
      "cell_type": "code",
      "metadata": {
        "id": "DQa-3Eg6all2",
        "colab_type": "code",
        "colab": {}
      },
      "source": [
        "from keras.preprocessing import sequence\n",
        "from keras.utils import np_utils\n",
        "from keras.models import Sequential\n",
        "from keras.layers import Dense, Dropout,Activation,Embedding\n",
        "from keras.layers import LSTM\n",
        "from keras.layers.convolutional import Conv1D\n",
        "from keras.layers.convolutional import MaxPooling1D"
      ],
      "execution_count": 0,
      "outputs": []
    },
    {
      "cell_type": "code",
      "metadata": {
        "id": "mDrF3ihZbBkm",
        "colab_type": "code",
        "colab": {}
      },
      "source": [
        "train = pd.read_csv('/content/drive/My Drive/data/train.tsv',sep='\\t',header=0)\n",
        "test = pd.read_csv('/content/drive/My Drive/data/test.tsv',sep='\\t',header=0)"
      ],
      "execution_count": 0,
      "outputs": []
    },
    {
      "cell_type": "code",
      "metadata": {
        "id": "PihSc-mibSei",
        "colab_type": "code",
        "colab": {
          "base_uri": "https://localhost:8080/",
          "height": 35
        },
        "outputId": "c6d0cad3-0d01-4f55-c34a-4f64faaa88eb"
      },
      "source": [
        "train.shape, test.shape"
      ],
      "execution_count": 42,
      "outputs": [
        {
          "output_type": "execute_result",
          "data": {
            "text/plain": [
              "((156060, 4), (66292, 3))"
            ]
          },
          "metadata": {
            "tags": []
          },
          "execution_count": 42
        }
      ]
    },
    {
      "cell_type": "code",
      "metadata": {
        "id": "80CSEiU0bieR",
        "colab_type": "code",
        "colab": {
          "base_uri": "https://localhost:8080/",
          "height": 202
        },
        "outputId": "db0a5c8e-bf09-42cc-b355-850a5557b3f8"
      },
      "source": [
        "train.head()"
      ],
      "execution_count": 43,
      "outputs": [
        {
          "output_type": "execute_result",
          "data": {
            "text/html": [
              "<div>\n",
              "<style scoped>\n",
              "    .dataframe tbody tr th:only-of-type {\n",
              "        vertical-align: middle;\n",
              "    }\n",
              "\n",
              "    .dataframe tbody tr th {\n",
              "        vertical-align: top;\n",
              "    }\n",
              "\n",
              "    .dataframe thead th {\n",
              "        text-align: right;\n",
              "    }\n",
              "</style>\n",
              "<table border=\"1\" class=\"dataframe\">\n",
              "  <thead>\n",
              "    <tr style=\"text-align: right;\">\n",
              "      <th></th>\n",
              "      <th>PhraseId</th>\n",
              "      <th>SentenceId</th>\n",
              "      <th>Phrase</th>\n",
              "      <th>Sentiment</th>\n",
              "    </tr>\n",
              "  </thead>\n",
              "  <tbody>\n",
              "    <tr>\n",
              "      <th>0</th>\n",
              "      <td>1</td>\n",
              "      <td>1</td>\n",
              "      <td>A series of escapades demonstrating the adage ...</td>\n",
              "      <td>1</td>\n",
              "    </tr>\n",
              "    <tr>\n",
              "      <th>1</th>\n",
              "      <td>2</td>\n",
              "      <td>1</td>\n",
              "      <td>A series of escapades demonstrating the adage ...</td>\n",
              "      <td>2</td>\n",
              "    </tr>\n",
              "    <tr>\n",
              "      <th>2</th>\n",
              "      <td>3</td>\n",
              "      <td>1</td>\n",
              "      <td>A series</td>\n",
              "      <td>2</td>\n",
              "    </tr>\n",
              "    <tr>\n",
              "      <th>3</th>\n",
              "      <td>4</td>\n",
              "      <td>1</td>\n",
              "      <td>A</td>\n",
              "      <td>2</td>\n",
              "    </tr>\n",
              "    <tr>\n",
              "      <th>4</th>\n",
              "      <td>5</td>\n",
              "      <td>1</td>\n",
              "      <td>series</td>\n",
              "      <td>2</td>\n",
              "    </tr>\n",
              "  </tbody>\n",
              "</table>\n",
              "</div>"
            ],
            "text/plain": [
              "   PhraseId  ...  Sentiment\n",
              "0         1  ...          1\n",
              "1         2  ...          2\n",
              "2         3  ...          2\n",
              "3         4  ...          2\n",
              "4         5  ...          2\n",
              "\n",
              "[5 rows x 4 columns]"
            ]
          },
          "metadata": {
            "tags": []
          },
          "execution_count": 43
        }
      ]
    },
    {
      "cell_type": "code",
      "metadata": {
        "id": "Yli7EnFRbj_3",
        "colab_type": "code",
        "colab": {
          "base_uri": "https://localhost:8080/",
          "height": 202
        },
        "outputId": "9e05b0d5-53d8-4c62-862a-5e548e02e83e"
      },
      "source": [
        "test.head()"
      ],
      "execution_count": 44,
      "outputs": [
        {
          "output_type": "execute_result",
          "data": {
            "text/html": [
              "<div>\n",
              "<style scoped>\n",
              "    .dataframe tbody tr th:only-of-type {\n",
              "        vertical-align: middle;\n",
              "    }\n",
              "\n",
              "    .dataframe tbody tr th {\n",
              "        vertical-align: top;\n",
              "    }\n",
              "\n",
              "    .dataframe thead th {\n",
              "        text-align: right;\n",
              "    }\n",
              "</style>\n",
              "<table border=\"1\" class=\"dataframe\">\n",
              "  <thead>\n",
              "    <tr style=\"text-align: right;\">\n",
              "      <th></th>\n",
              "      <th>PhraseId</th>\n",
              "      <th>SentenceId</th>\n",
              "      <th>Phrase</th>\n",
              "    </tr>\n",
              "  </thead>\n",
              "  <tbody>\n",
              "    <tr>\n",
              "      <th>0</th>\n",
              "      <td>156061</td>\n",
              "      <td>8545</td>\n",
              "      <td>An intermittently pleasing but mostly routine ...</td>\n",
              "    </tr>\n",
              "    <tr>\n",
              "      <th>1</th>\n",
              "      <td>156062</td>\n",
              "      <td>8545</td>\n",
              "      <td>An intermittently pleasing but mostly routine ...</td>\n",
              "    </tr>\n",
              "    <tr>\n",
              "      <th>2</th>\n",
              "      <td>156063</td>\n",
              "      <td>8545</td>\n",
              "      <td>An</td>\n",
              "    </tr>\n",
              "    <tr>\n",
              "      <th>3</th>\n",
              "      <td>156064</td>\n",
              "      <td>8545</td>\n",
              "      <td>intermittently pleasing but mostly routine effort</td>\n",
              "    </tr>\n",
              "    <tr>\n",
              "      <th>4</th>\n",
              "      <td>156065</td>\n",
              "      <td>8545</td>\n",
              "      <td>intermittently pleasing but mostly routine</td>\n",
              "    </tr>\n",
              "  </tbody>\n",
              "</table>\n",
              "</div>"
            ],
            "text/plain": [
              "   PhraseId  SentenceId                                             Phrase\n",
              "0    156061        8545  An intermittently pleasing but mostly routine ...\n",
              "1    156062        8545  An intermittently pleasing but mostly routine ...\n",
              "2    156063        8545                                                 An\n",
              "3    156064        8545  intermittently pleasing but mostly routine effort\n",
              "4    156065        8545         intermittently pleasing but mostly routine"
            ]
          },
          "metadata": {
            "tags": []
          },
          "execution_count": 44
        }
      ]
    },
    {
      "cell_type": "code",
      "metadata": {
        "id": "R1YShUMdbkjf",
        "colab_type": "code",
        "colab": {}
      },
      "source": [
        "raw_docs_train  = train['Phrase'].values\n",
        "raw_docs_test  = test['Phrase'].values\n",
        "sentiment_train = train['Sentiment'].values\n",
        "num_labels = len(np.unique(sentiment_train))"
      ],
      "execution_count": 0,
      "outputs": []
    },
    {
      "cell_type": "code",
      "metadata": {
        "id": "h0MW3LKhb2_a",
        "colab_type": "code",
        "colab": {
          "base_uri": "https://localhost:8080/",
          "height": 35
        },
        "outputId": "39c71e65-f22d-4444-d041-ee54c8be89dd"
      },
      "source": [
        "np.unique(sentiment_train)"
      ],
      "execution_count": 46,
      "outputs": [
        {
          "output_type": "execute_result",
          "data": {
            "text/plain": [
              "array([0, 1, 2, 3, 4])"
            ]
          },
          "metadata": {
            "tags": []
          },
          "execution_count": 46
        }
      ]
    },
    {
      "cell_type": "markdown",
      "metadata": {
        "id": "wLqvr1eMb-_y",
        "colab_type": "text"
      },
      "source": [
        "# **Preprocessing Data**"
      ]
    },
    {
      "cell_type": "code",
      "metadata": {
        "id": "O1K0rSmRcCvO",
        "colab_type": "code",
        "colab": {
          "base_uri": "https://localhost:8080/",
          "height": 55
        },
        "outputId": "7922315e-7d39-485f-eb39-da8d4353df59"
      },
      "source": [
        "stop_words = set(stopwords.words('english'))\n",
        "print(stop_words)"
      ],
      "execution_count": 52,
      "outputs": [
        {
          "output_type": "stream",
          "text": [
            "{'herself', \"didn't\", 'whom', 'your', \"couldn't\", 'you', \"it's\", 'them', 'this', 'by', 'up', 'against', 'again', 'i', 'in', 'out', \"shouldn't\", 'be', 'had', 've', 'am', 'same', 'between', 'o', 'myself', 'are', 'for', 's', 'into', 'most', 'm', 'under', 'where', \"hasn't\", \"don't\", 'which', 'that', 'it', 'yourself', 'my', 'his', 'theirs', 'doesn', 'only', \"mustn't\", 'these', 'they', \"wouldn't\", 'at', \"hadn't\", 'there', 'we', 'an', 'no', \"you've\", \"needn't\", \"she's\", 'she', 'been', 'and', 'below', 'ma', 'than', 'own', \"that'll\", \"mightn't\", 'few', 'if', 'ain', 'themselves', 'needn', 'when', 'other', 'now', 'do', 'haven', 'hadn', 'should', 'd', 'what', \"haven't\", \"won't\", 'yourselves', 'further', 'those', \"you'd\", 'their', 'very', 'll', 'will', 'hasn', 'who', 'its', 'didn', 'so', 'our', 'has', 'why', 'ourselves', \"you're\", 'before', 'how', 'yours', 'while', 'does', 'is', 'aren', 'being', 'but', 'from', 'each', 'was', 'did', 'wasn', 'were', 'he', 'after', 'down', 'because', 'or', 'of', 'some', 'shan', \"weren't\", 'all', 'ours', 'on', 'then', \"doesn't\", 'a', \"should've\", 'more', 'won', 'off', 'y', 'mustn', 're', \"aren't\", 'both', 'isn', \"you'll\", 'as', 'me', 'just', 'having', 'until', 'with', 'don', 'once', 'too', 'her', 'weren', 'any', 'wouldn', 'himself', \"shan't\", 'him', 'nor', 'such', 't', 'not', 'here', 'hers', \"isn't\", 'itself', 'doing', 'the', 'through', 'shouldn', \"wasn't\", 'during', 'have', 'over', 'to', 'couldn', 'about', 'can', 'above', 'mightn'}\n"
          ],
          "name": "stdout"
        }
      ]
    },
    {
      "cell_type": "code",
      "metadata": {
        "id": "5RhoawKXcJqz",
        "colab_type": "code",
        "colab": {
          "base_uri": "https://localhost:8080/",
          "height": 69
        },
        "outputId": "f312d464-b27d-4a76-b5f6-f76fa90a3483"
      },
      "source": [
        "import nltk\n",
        "nltk.download('stopwords')"
      ],
      "execution_count": 51,
      "outputs": [
        {
          "output_type": "stream",
          "text": [
            "[nltk_data] Downloading package stopwords to /root/nltk_data...\n",
            "[nltk_data]   Unzipping corpora/stopwords.zip.\n"
          ],
          "name": "stdout"
        },
        {
          "output_type": "execute_result",
          "data": {
            "text/plain": [
              "True"
            ]
          },
          "metadata": {
            "tags": []
          },
          "execution_count": 51
        }
      ]
    },
    {
      "cell_type": "code",
      "metadata": {
        "id": "5yseBINGci6N",
        "colab_type": "code",
        "colab": {
          "base_uri": "https://localhost:8080/",
          "height": 55
        },
        "outputId": "d39212ab-5fa3-4862-dad4-95c99b99bcb8"
      },
      "source": [
        "stop_words.update(['.',',','\"',\"'\",\":\",';','(',')','[',']','{','}'])\n",
        "print(stop_words)"
      ],
      "execution_count": 53,
      "outputs": [
        {
          "output_type": "stream",
          "text": [
            "{'herself', \"didn't\", 'whom', 'your', \"couldn't\", 'you', \"it's\", 'them', 'this', 'by', 'up', 'against', 'again', 'i', 'in', 'out', \"shouldn't\", 'be', 'had', 've', 'am', 'same', '[', 'between', 'o', 'myself', 'are', 'for', 's', 'into', 'most', 'm', 'under', 'where', \"hasn't\", ';', \"don't\", 'which', 'that', 'it', 'yourself', '.', 'my', 'his', 'theirs', 'doesn', 'only', \"mustn't\", 'these', 'they', \"wouldn't\", 'at', '{', \"hadn't\", \"'\", 'there', 'we', 'an', 'no', \"you've\", \"needn't\", \"she's\", 'she', 'been', 'and', 'below', 'ma', 'than', 'own', \"that'll\", \"mightn't\", 'few', 'if', 'ain', 'themselves', 'needn', 'when', 'other', 'now', 'do', 'haven', 'hadn', 'should', 'd', 'what', \"haven't\", \"won't\", 'yourselves', 'further', 'those', \"you'd\", 'their', 'very', 'll', ':', 'will', 'hasn', 'who', 'its', 'didn', 'so', 'our', 'has', 'why', 'ourselves', \"you're\", 'before', 'how', 'yours', 'while', 'does', 'is', 'aren', ']', 'being', 'but', 'from', 'each', 'was', 'did', 'wasn', 'were', 'he', 'after', 'down', 'because', 'or', 'of', 'some', 'shan', '}', \"weren't\", 'all', 'ours', 'on', 'then', \"doesn't\", 'a', \"should've\", 'more', 'won', 'off', 'y', 'mustn', 're', \"aren't\", ',', '(', 'both', 'isn', \"you'll\", 'as', 'me', 'just', 'having', 'until', 'with', 'don', 'once', 'too', ')', 'her', 'weren', 'any', 'wouldn', 'himself', \"shan't\", 'him', 'nor', 'such', 't', '\"', 'not', 'here', 'hers', \"isn't\", 'itself', 'doing', 'the', 'through', 'shouldn', \"wasn't\", 'during', 'have', 'over', 'to', 'couldn', 'about', 'can', 'above', 'mightn'}\n"
          ],
          "name": "stdout"
        }
      ]
    },
    {
      "cell_type": "code",
      "metadata": {
        "id": "da6n21CvdEWw",
        "colab_type": "code",
        "colab": {}
      },
      "source": [
        "stemmer = SnowballStemmer('english')"
      ],
      "execution_count": 0,
      "outputs": []
    },
    {
      "cell_type": "code",
      "metadata": {
        "id": "WAFlRt0CdQQU",
        "colab_type": "code",
        "colab": {
          "base_uri": "https://localhost:8080/",
          "height": 263
        },
        "outputId": "33e05489-73a4-44f8-88b0-6972b880505f"
      },
      "source": [
        "print(\"Pre-processing train docs..\")\n",
        "processed_docs_train = []\n",
        "for index,doc in enumerate(raw_docs_train):\n",
        "  tokens = word_tokenize(doc)\n",
        "  filtered = [word for word in tokens if word not in stop_words]\n",
        "  stemmed = [stemmer.stem(word) for word in filtered]\n",
        "  processed_docs_train.append(stemmed)\n",
        "\n",
        "  if index==0:\n",
        "    print('\\n')\n",
        "    print(doc)\n",
        "    print('\\n')\n",
        "    print(tokens)\n",
        "    print('\\n')\n",
        "    print(filtered)\n",
        "    print('\\n')\n",
        "    print(stemmed)"
      ],
      "execution_count": 58,
      "outputs": [
        {
          "output_type": "stream",
          "text": [
            "Pre-processing train docs..\n",
            "\n",
            "\n",
            "A series of escapades demonstrating the adage that what is good for the goose is also good for the gander , some of which occasionally amuses but none of which amounts to much of a story .\n",
            "\n",
            "\n",
            "['A', 'series', 'of', 'escapades', 'demonstrating', 'the', 'adage', 'that', 'what', 'is', 'good', 'for', 'the', 'goose', 'is', 'also', 'good', 'for', 'the', 'gander', ',', 'some', 'of', 'which', 'occasionally', 'amuses', 'but', 'none', 'of', 'which', 'amounts', 'to', 'much', 'of', 'a', 'story', '.']\n",
            "\n",
            "\n",
            "['A', 'series', 'escapades', 'demonstrating', 'adage', 'good', 'goose', 'also', 'good', 'gander', 'occasionally', 'amuses', 'none', 'amounts', 'much', 'story']\n",
            "\n",
            "\n",
            "['a', 'seri', 'escapad', 'demonstr', 'adag', 'good', 'goos', 'also', 'good', 'gander', 'occasion', 'amus', 'none', 'amount', 'much', 'stori']\n"
          ],
          "name": "stdout"
        }
      ]
    },
    {
      "cell_type": "code",
      "metadata": {
        "id": "AGLuyI9oeFJ4",
        "colab_type": "code",
        "colab": {
          "base_uri": "https://localhost:8080/",
          "height": 69
        },
        "outputId": "dfe91e15-191b-4eed-da67-f767dc0cca6f"
      },
      "source": [
        "import nltk\n",
        "nltk.download('punkt')"
      ],
      "execution_count": 56,
      "outputs": [
        {
          "output_type": "stream",
          "text": [
            "[nltk_data] Downloading package punkt to /root/nltk_data...\n",
            "[nltk_data]   Unzipping tokenizers/punkt.zip.\n"
          ],
          "name": "stdout"
        },
        {
          "output_type": "execute_result",
          "data": {
            "text/plain": [
              "True"
            ]
          },
          "metadata": {
            "tags": []
          },
          "execution_count": 56
        }
      ]
    },
    {
      "cell_type": "code",
      "metadata": {
        "id": "gD_9IFA6eIr-",
        "colab_type": "code",
        "colab": {
          "base_uri": "https://localhost:8080/",
          "height": 35
        },
        "outputId": "1dc8dad9-cdb7-4da2-8e4c-23a1ba992c24"
      },
      "source": [
        "print(\"Pre-processing the test docs\")\n",
        "processed_docs_test = []\n",
        "for doc in raw_docs_test:\n",
        "  tokens = word_tokenize(doc)\n",
        "  filtered = [word for word in tokens if word not in stop_words]\n",
        "  stemmed = [stemmer.stem(word) for word in filtered]\n",
        "  processed_docs_test.append(stemmed)"
      ],
      "execution_count": 60,
      "outputs": [
        {
          "output_type": "stream",
          "text": [
            "Pre-processing the test docs\n"
          ],
          "name": "stdout"
        }
      ]
    },
    {
      "cell_type": "code",
      "metadata": {
        "id": "dC1d7tHefI8B",
        "colab_type": "code",
        "colab": {}
      },
      "source": [
        "processed_docs_all = np.concatenate((processed_docs_train,processed_docs_test),axis=0)"
      ],
      "execution_count": 0,
      "outputs": []
    },
    {
      "cell_type": "code",
      "metadata": {
        "id": "s_Ro0nLkfVty",
        "colab_type": "code",
        "colab": {}
      },
      "source": [
        "dictionary = corpora.Dictionary(processed_docs_all)\n",
        "dictionary_size = len(dictionary.keys())"
      ],
      "execution_count": 0,
      "outputs": []
    },
    {
      "cell_type": "code",
      "metadata": {
        "id": "8YVXRE8gfiF4",
        "colab_type": "code",
        "colab": {
          "base_uri": "https://localhost:8080/",
          "height": 35
        },
        "outputId": "ace40ac9-3f17-41b0-feb1-447c1343bffe"
      },
      "source": [
        "print(\"Dictionary size\",dictionary_size)"
      ],
      "execution_count": 63,
      "outputs": [
        {
          "output_type": "stream",
          "text": [
            "Dictionary size 13759\n"
          ],
          "name": "stdout"
        }
      ]
    },
    {
      "cell_type": "code",
      "metadata": {
        "id": "PokvSRPYfmzG",
        "colab_type": "code",
        "colab": {
          "base_uri": "https://localhost:8080/",
          "height": 35
        },
        "outputId": "2845f42d-a7c7-4e43-ea8a-9be1a96081cb"
      },
      "source": [
        "dictionary[0],dictionary[14]"
      ],
      "execution_count": 64,
      "outputs": [
        {
          "output_type": "execute_result",
          "data": {
            "text/plain": [
              "('a', 'stori')"
            ]
          },
          "metadata": {
            "tags": []
          },
          "execution_count": 64
        }
      ]
    },
    {
      "cell_type": "code",
      "metadata": {
        "id": "nSR2uF7efraj",
        "colab_type": "code",
        "colab": {
          "base_uri": "https://localhost:8080/",
          "height": 124
        },
        "outputId": "765871e7-4d8e-4fb1-9c53-56d1da6df16d"
      },
      "source": [
        "print(\"Converting to token ids...\")\n",
        "word_id_train,word_id_len = [], []\n",
        "for index,doc in enumerate(processed_docs_train):\n",
        "  word_ids = [dictionary.token2id[word] for word in doc]\n",
        "  word_id_train.append(word_ids)\n",
        "  word_id_len.append(len(word_ids))\n",
        "\n",
        "  if index==0:\n",
        "    print(doc)\n",
        "    print(word_ids)\n",
        "    print(word_id_train)\n",
        "    print(word_id_len)"
      ],
      "execution_count": 65,
      "outputs": [
        {
          "output_type": "stream",
          "text": [
            "Converting to token ids...\n",
            "['a', 'seri', 'escapad', 'demonstr', 'adag', 'good', 'goos', 'also', 'good', 'gander', 'occasion', 'amus', 'none', 'amount', 'much', 'stori']\n",
            "[0, 13, 6, 5, 1, 8, 9, 2, 8, 7, 12, 4, 11, 3, 10, 14]\n",
            "[[0, 13, 6, 5, 1, 8, 9, 2, 8, 7, 12, 4, 11, 3, 10, 14]]\n",
            "[16]\n"
          ],
          "name": "stdout"
        }
      ]
    },
    {
      "cell_type": "code",
      "metadata": {
        "id": "Jb0w_Q6cgc_7",
        "colab_type": "code",
        "colab": {}
      },
      "source": [
        "word_id_test, word_ids = [],[]\n",
        "for doc in processed_docs_test:\n",
        "  words_ids = [dictionary.token2id[word] for word in doc]\n",
        "  word_id_test.append(word_ids)\n",
        "  word_id_len.append(len(word_ids))"
      ],
      "execution_count": 0,
      "outputs": []
    },
    {
      "cell_type": "code",
      "metadata": {
        "id": "UUf0FnU3g6Ar",
        "colab_type": "code",
        "colab": {
          "base_uri": "https://localhost:8080/",
          "height": 69
        },
        "outputId": "3ca15b41-7735-499c-f66b-4be73cbaa7ab"
      },
      "source": [
        "seq_len  = np.round((np.mean(word_id_len) + 2*np.std(word_id_len))).astype(int)\n",
        "print(np.mean(word_id_len))\n",
        "print(np.std(word_id_len))\n",
        "print(seq_len)"
      ],
      "execution_count": 68,
      "outputs": [
        {
          "output_type": "stream",
          "text": [
            "2.9884102684032525\n",
            "3.771268113139097\n",
            "11\n"
          ],
          "name": "stdout"
        }
      ]
    },
    {
      "cell_type": "markdown",
      "metadata": {
        "id": "vYn77lcChTDC",
        "colab_type": "text"
      },
      "source": [
        "# **Padding Sequences**"
      ]
    },
    {
      "cell_type": "code",
      "metadata": {
        "id": "TT_L_QLKhVwC",
        "colab_type": "code",
        "colab": {}
      },
      "source": [
        "word_id_train = sequence.pad_sequences(np.array(word_id_train),maxlen=seq_len)\n",
        "word_id_test = sequence.pad_sequences(np.array(word_id_test),maxlen=seq_len)\n",
        "y_train_enc = np_utils.to_categorical(sentiment_train,num_labels)"
      ],
      "execution_count": 0,
      "outputs": []
    },
    {
      "cell_type": "code",
      "metadata": {
        "id": "VOoqhjS-hvBM",
        "colab_type": "code",
        "colab": {
          "base_uri": "https://localhost:8080/",
          "height": 139
        },
        "outputId": "af117712-a4fb-44b6-e893-76b7f2940052"
      },
      "source": [
        "print(word_id_train)"
      ],
      "execution_count": 70,
      "outputs": [
        {
          "output_type": "stream",
          "text": [
            "[[    8     9     2 ...     3    10    14]\n",
            " [    0     0     0 ...     1     8     9]\n",
            " [    0     0     0 ...     0     0    13]\n",
            " ...\n",
            " [    0     0     0 ...     0 11849 11850]\n",
            " [    0     0     0 ...     0     0 11849]\n",
            " [    0     0     0 ...     0     0 11850]]\n"
          ],
          "name": "stdout"
        }
      ]
    },
    {
      "cell_type": "code",
      "metadata": {
        "id": "t2_tqXX5hy22",
        "colab_type": "code",
        "colab": {
          "base_uri": "https://localhost:8080/",
          "height": 139
        },
        "outputId": "ea43bbce-e4bc-44cb-d623-4ab2754b383e"
      },
      "source": [
        "print(y_train_enc)"
      ],
      "execution_count": 71,
      "outputs": [
        {
          "output_type": "stream",
          "text": [
            "[[0. 1. 0. 0. 0.]\n",
            " [0. 0. 1. 0. 0.]\n",
            " [0. 0. 1. 0. 0.]\n",
            " ...\n",
            " [0. 0. 0. 1. 0.]\n",
            " [0. 0. 1. 0. 0.]\n",
            " [0. 0. 1. 0. 0.]]\n"
          ],
          "name": "stdout"
        }
      ]
    },
    {
      "cell_type": "markdown",
      "metadata": {
        "id": "oA_ep4blh6BT",
        "colab_type": "text"
      },
      "source": [
        "# **Training RNN LSTM Model**"
      ]
    },
    {
      "cell_type": "code",
      "metadata": {
        "id": "vLSAsb0Qh9eN",
        "colab_type": "code",
        "colab": {
          "base_uri": "https://localhost:8080/",
          "height": 35
        },
        "outputId": "31ecf0db-2060-48bd-d5a5-55f461f79e12"
      },
      "source": [
        "print(\"Fitting LSTM\")\n",
        "model = Sequential()\n",
        "model.add(Embedding(dictionary_size,128))\n",
        "model.add(Dropout(0.2))\n",
        "model.add(LSTM(128))\n",
        "model.add(Dropout(0.2))\n",
        "model.add(Dense(num_labels))\n",
        "model.add(Activation('softmax'))\n",
        "\n",
        "model.compile(loss='categorical_crossentropy',optimizer='adam',metrics=['accuracy'])"
      ],
      "execution_count": 72,
      "outputs": [
        {
          "output_type": "stream",
          "text": [
            "Fitting LSTM\n"
          ],
          "name": "stdout"
        }
      ]
    },
    {
      "cell_type": "code",
      "metadata": {
        "id": "kUNSV0moi7kq",
        "colab_type": "code",
        "colab": {
          "base_uri": "https://localhost:8080/",
          "height": 193
        },
        "outputId": "a11410a0-e8cc-4c46-f6cf-3ebfce67d836"
      },
      "source": [
        "model.fit(word_id_train,y_train_enc,epochs=3,batch_size=256,verbose=1)"
      ],
      "execution_count": 73,
      "outputs": [
        {
          "output_type": "stream",
          "text": [
            "/usr/local/lib/python3.6/dist-packages/tensorflow/python/framework/indexed_slices.py:434: UserWarning: Converting sparse IndexedSlices to a dense Tensor of unknown shape. This may consume a large amount of memory.\n",
            "  \"Converting sparse IndexedSlices to a dense Tensor of unknown shape. \"\n"
          ],
          "name": "stderr"
        },
        {
          "output_type": "stream",
          "text": [
            "Epoch 1/3\n",
            "156060/156060 [==============================] - 64s 410us/step - loss: 1.0002 - accuracy: 0.5983\n",
            "Epoch 2/3\n",
            "156060/156060 [==============================] - 64s 409us/step - loss: 0.8268 - accuracy: 0.6601\n",
            "Epoch 3/3\n",
            "156060/156060 [==============================] - 64s 409us/step - loss: 0.7710 - accuracy: 0.6807\n"
          ],
          "name": "stdout"
        },
        {
          "output_type": "execute_result",
          "data": {
            "text/plain": [
              "<keras.callbacks.callbacks.History at 0x7fc074bc4c18>"
            ]
          },
          "metadata": {
            "tags": []
          },
          "execution_count": 73
        }
      ]
    },
    {
      "cell_type": "markdown",
      "metadata": {
        "id": "9IK_gv0ZjLao",
        "colab_type": "text"
      },
      "source": [
        "# **Using Convolutional Neural Network (CNN) + LSTM**"
      ]
    },
    {
      "cell_type": "code",
      "metadata": {
        "id": "Hh7T2sgvjNSW",
        "colab_type": "code",
        "colab": {
          "base_uri": "https://localhost:8080/",
          "height": 35
        },
        "outputId": "0ce3a474-72b8-45b3-c4d4-6b5f80fb53f5"
      },
      "source": [
        "print(\"Fitting LSTM\")\n",
        "model = Sequential()\n",
        "model.add(Embedding(dictionary_size,128))\n",
        "model.add(Conv1D(filters=32,kernel_size=3,padding='same',activation='relu'))\n",
        "model.add(MaxPooling1D(pool_size=2))\n",
        "\n",
        "model.add(LSTM(128,dropout=0.2,recurrent_dropout=0.2))\n",
        "model.add(Dense(num_labels,activation='softmax'))\n",
        "model.compile(loss='categorical_crossentropy',optimizer='adam',metrics=['accuracy'])"
      ],
      "execution_count": 76,
      "outputs": [
        {
          "output_type": "stream",
          "text": [
            "Fitting LSTM\n"
          ],
          "name": "stdout"
        }
      ]
    },
    {
      "cell_type": "code",
      "metadata": {
        "id": "d5vIpkkEj8JN",
        "colab_type": "code",
        "colab": {
          "base_uri": "https://localhost:8080/",
          "height": 193
        },
        "outputId": "883ec58b-1fd5-4fd1-8f7d-caeee5f90e98"
      },
      "source": [
        "model.fit(word_id_train,y_train_enc,epochs=3,batch_size=256,verbose=1)"
      ],
      "execution_count": 77,
      "outputs": [
        {
          "output_type": "stream",
          "text": [
            "/usr/local/lib/python3.6/dist-packages/tensorflow/python/framework/indexed_slices.py:434: UserWarning: Converting sparse IndexedSlices to a dense Tensor of unknown shape. This may consume a large amount of memory.\n",
            "  \"Converting sparse IndexedSlices to a dense Tensor of unknown shape. \"\n"
          ],
          "name": "stderr"
        },
        {
          "output_type": "stream",
          "text": [
            "Epoch 1/3\n",
            "156060/156060 [==============================] - 39s 252us/step - loss: 1.0188 - accuracy: 0.5915\n",
            "Epoch 2/3\n",
            "156060/156060 [==============================] - 39s 250us/step - loss: 0.8312 - accuracy: 0.6588\n",
            "Epoch 3/3\n",
            "156060/156060 [==============================] - 39s 253us/step - loss: 0.7709 - accuracy: 0.6809\n"
          ],
          "name": "stdout"
        },
        {
          "output_type": "execute_result",
          "data": {
            "text/plain": [
              "<keras.callbacks.callbacks.History at 0x7fc074a8da90>"
            ]
          },
          "metadata": {
            "tags": []
          },
          "execution_count": 77
        }
      ]
    },
    {
      "cell_type": "code",
      "metadata": {
        "id": "-G728Uo4kLsK",
        "colab_type": "code",
        "colab": {}
      },
      "source": [
        "test_pred = model.predict_classes(word_id_test)"
      ],
      "execution_count": 0,
      "outputs": []
    },
    {
      "cell_type": "code",
      "metadata": {
        "id": "xvYZLR3PkSB0",
        "colab_type": "code",
        "colab": {
          "base_uri": "https://localhost:8080/",
          "height": 35
        },
        "outputId": "0c679bf9-2db6-4ff6-e791-b3da8db5e0b8"
      },
      "source": [
        "test_pred"
      ],
      "execution_count": 79,
      "outputs": [
        {
          "output_type": "execute_result",
          "data": {
            "text/plain": [
              "array([2, 2, 2, ..., 2, 2, 2])"
            ]
          },
          "metadata": {
            "tags": []
          },
          "execution_count": 79
        }
      ]
    },
    {
      "cell_type": "code",
      "metadata": {
        "id": "hPbmRe6lkTIG",
        "colab_type": "code",
        "colab": {}
      },
      "source": [
        "test['Sentiment'] = test_pred.reshape(-1,1)\n",
        "header = ['PhraseId','Sentiment']\n",
        "test.to_csv('/content/drive/My Drive/data/submission_lstm_cnn.csv',columns=header,index=False,header=True)"
      ],
      "execution_count": 0,
      "outputs": []
    },
    {
      "cell_type": "code",
      "metadata": {
        "id": "a6XoKwARkppo",
        "colab_type": "code",
        "colab": {}
      },
      "source": [
        ""
      ],
      "execution_count": 0,
      "outputs": []
    }
  ]
}